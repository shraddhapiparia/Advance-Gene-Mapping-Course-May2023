{
  "cells": [
    {
      "cell_type": "markdown",
      "metadata": {
        "kernel": "SoS",
        "id": "zbGrFggUTyK1"
      },
      "source": [
        "# Association Analysis of Sequence Data using PLINK/SEQ (PSEQ)\n",
        "\n",
        "Copyright (c) 2019 Stanley Hooker, Biao Li, Di Zhang and Suzanne M. Leal"
      ]
    },
    {
      "cell_type": "markdown",
      "metadata": {
        "kernel": "SoS",
        "id": "5GO2h-2UTyK5"
      },
      "source": [
        "**Purpose**\n",
        "\n",
        "PLINK/SEQ (PSEQ) is an open-source C/C++ library for working with human\n",
        "genetic variation data. The specific focus is to provide a platform for\n",
        "analytic tool development for variation data from large-scale\n",
        "resequencing and genotyping projects, particularly whole-exome and\n",
        "whole-genome studies. PSEQ is independent of, but designed to be\n",
        "complementary to, the existing PLINK (Purcell *et al.*, 2007) package.\n",
        "Here we give an overview of analysis of exome sequence data using PSEQ.\n",
        "\n",
        "**Software Resource**\n",
        "\n",
        "This tutorial was completed with PSEQ 0.10, (released on 14-Jul-2014)\n",
        "available from https://atgu.mgh.harvard.edu/plinkseq/download.shtml.\n",
        "Links to PSEQ documentation can also be found on the webpage. Below is\n",
        "an outline of what PSEQ documentation offers:\n",
        "\n",
        "-   Basic Syntax and Conventions\n",
        "\n",
        "-   Project Management\n",
        "\n",
        "-   Data Input\n",
        "\n",
        "-   Attaching Auxiliary Data\n",
        "\n",
        "-   Viewing Data\n",
        "\n",
        "-   Data Output\n",
        "\n",
        "-   Summary Statistics\n",
        "\n",
        "-   Association Analysis\n",
        "\n",
        "-   Locus Database Operations\n",
        "\n",
        "-   Reference Database Operations\n",
        "\n",
        "-   Miscellaneous commands\n",
        "\n",
        "**Exercise Genotype Data**\n",
        "\n",
        "Autosomal exome genotype data was downloaded from the 1000 Genomes pilot\n",
        "data July 2010 release for both the CEU (Utah residents with Northern\n",
        "and Western European ancestry) and YRI (Yoruba in Ibadan, Nigeria)\n",
        "populations. The data sets (CEU.exon.201003.genotypes.vcf.gz and\n",
        "YRI.exon.201003.genotypes.vcf.gz) are available from:\n",
        "\n",
        "ftp://ftp.1000genomes.ebi.ac.uk/vol1/ftp/pilot_data/release/2010_07/exon/snps\n",
        "\n",
        "The genomic co-ordinate for this data set is hg18 based. To use the PSEQ\n",
        "annotation data source which is hg19 based, you will lift over this data\n",
        "set to use hg19 co-ordinate. Since PSEQ does not provide a liftover\n",
        "feature therefore the data has already been lifted over for you using\n",
        "Variant Association Tools. The resulting data files,\n",
        "**CEU.exon.201003.genotypes.hg19.vcf.gz** and\n",
        "**YRI.exon.201003.genotypes.hg19.vcf.gz**, will be used for this\n",
        "exercise. One data set contains exome data for European-Americans (CEU)\n",
        "from 1000 Genomes while the other for Yoruba (YRI). The liftover feature\n",
        "may also have to be used with your data set as new hg coordinates become\n",
        "available. For additional information see\n",
        "http://varianttools.sourceforge.net/Vtools/Liftover\n",
        "\n",
        "**Phenotype Data**\n",
        "\n",
        "To demonstrate performing an association analysis, we simulated a\n",
        "quantitative trait phenotype (BMI). Please note that these phenotypes\n",
        "are ***NOT*** from the 1000 genomes project. The phenotype data for the\n",
        "exercise can be found in the text file **phenotype.phe.** This phenotype\n",
        "file contains data for 202 individuals from both the CEU and YRI\n",
        "populations.\n",
        "\n",
        "**Computation Resources**\n",
        "\n",
        "The following tutorial uses a small data set so that the association\n",
        "analysis can be completed in a short period-of-time. Large\n",
        "next-generation sequenced data sets require a reasonably powerful\n",
        "machine with a high-speed internet connection.\n",
        "\n",
        "**Data Cleaning and Variant/Sample Selection**\n",
        "\n",
        "**Getting Started**\n",
        "\n",
        "To get a list of PSEQ subcommands use:"
      ]
    },
    {
      "cell_type": "code",
      "execution_count": null,
      "metadata": {
        "kernel": "Bash",
        "id": "EFL2yqP9TyK6"
      },
      "outputs": [],
      "source": [
        "pseq help"
      ]
    },
    {
      "cell_type": "markdown",
      "metadata": {
        "kernel": "SoS",
        "id": "wOnKl4STTyK7"
      },
      "source": [
        "Or,"
      ]
    },
    {
      "cell_type": "code",
      "execution_count": null,
      "metadata": {
        "kernel": "Bash",
        "id": "1AypQ2zaTyK7"
      },
      "outputs": [],
      "source": [
        "pseq help all"
      ]
    },
    {
      "cell_type": "markdown",
      "metadata": {
        "kernel": "SoS",
        "id": "iU3DBH5oTyK8"
      },
      "source": [
        "**Create a new project**"
      ]
    },
    {
      "cell_type": "code",
      "execution_count": null,
      "metadata": {
        "kernel": "Bash",
        "id": "WGhcjlsdTyK8"
      },
      "outputs": [],
      "source": [
        "cd ~/work\n",
        "# to change directory to pseq folder"
      ]
    },
    {
      "cell_type": "code",
      "execution_count": null,
      "metadata": {
        "kernel": "Bash",
        "id": "WaklbMzYTyK8"
      },
      "outputs": [],
      "source": [
        "pseq myproj new-project --resources hg19"
      ]
    },
    {
      "cell_type": "markdown",
      "metadata": {
        "kernel": "SoS",
        "id": "Uis6BAcuTyK9"
      },
      "source": [
        "Creating new project specification file \\[ myproj.pseq \\]\n",
        "\n",
        "The “--resources” flag tells **pseq** where your supporting databases\n",
        "are located. For this exercise the necessary databases have already been\n",
        "created and are within your exercise directory. Instructions on how to\n",
        "create these databases is located at:\n",
        "\n",
        "*http://atgu.mgh.harvard.edu/plinkseq/resources.shtml*.\n",
        "\n",
        "**Load variant data**\n",
        "\n",
        "Import all vcf files under the current directory:"
      ]
    },
    {
      "cell_type": "code",
      "execution_count": null,
      "metadata": {
        "kernel": "Bash",
        "id": "mnWZxrLTTyK9"
      },
      "outputs": [],
      "source": [
        "pseq myproj load-vcf --vcf CEU.exon.2010_03.genotypes.hg19.vcf.gz YRI.exon.2010_03.genotypes.hg19.vcf.gz"
      ]
    },
    {
      "cell_type": "markdown",
      "metadata": {
        "kernel": "SoS",
        "id": "AoiDiO7mTyK-"
      },
      "source": [
        "Note CEU are European-Americans and YRI are Yoruba from Nigeria.\n",
        "\n",
        "**Load phenotype data**"
      ]
    },
    {
      "cell_type": "code",
      "execution_count": null,
      "metadata": {
        "kernel": "Bash",
        "id": "7CT_vJBDTyK-"
      },
      "outputs": [],
      "source": [
        "pseq myproj load-pheno --file phenotype.phe"
      ]
    },
    {
      "cell_type": "markdown",
      "metadata": {
        "kernel": "SoS",
        "id": "mpipolQKTyK-"
      },
      "source": [
        "The “phenotype.phe” file contains phenotypes for SEX, BMI and RACE (BMI\n",
        "is body mass index, males are denoted by a 1 and females by 2).\n",
        "Instruction on formatting .phe file can be found at\n",
        "*https://atgu.mgh.harvard.edu/plinkseq/input.shtml\\#phe*.\n",
        "\n",
        "**View variants and samples**\n",
        "\n",
        "To view variant sites info:"
      ]
    },
    {
      "cell_type": "code",
      "execution_count": null,
      "metadata": {
        "kernel": "Bash",
        "id": "LWJ2g15uTyK-"
      },
      "outputs": [],
      "source": [
        "pseq myproj v-view | head"
      ]
    },
    {
      "cell_type": "markdown",
      "metadata": {
        "kernel": "SoS",
        "id": "Ttk1kx32TyK-"
      },
      "source": [
        "v-view command outputs a per-variant level view of a project, with the\n",
        "above fields: chromosome (base-position); variant-ID (or ‘.’ If novel);\n",
        "ref/alt alleles; a sample/file identifier (or ‘.’ If consensus variant);\n",
        "\\# of samples the variant observed in; filter values for samples (here\n",
        "‘PASS’ means that the variant site passes all filter and ‘SBFilter’\n",
        "means that the variant site fails to pass the strand bias (SB) filter).\n",
        "More details about v-view command can be found at\n",
        "*https://atgu.mgh.harvard.edu/plinkseq/view.shtml\\#var*\n",
        "\n",
        "To view samples and phenotypes:"
      ]
    },
    {
      "cell_type": "code",
      "execution_count": null,
      "metadata": {
        "kernel": "Bash",
        "id": "RfE-X70ITyK_"
      },
      "outputs": [],
      "source": [
        "# i-view command writes to standard output to view individuals’ phenotype information\n",
        "pseq myproj i-view | head"
      ]
    },
    {
      "cell_type": "markdown",
      "metadata": {
        "kernel": "SoS",
        "id": "7JIm5Y0vTyK_"
      },
      "source": [
        "There are 3 fields, BMI, RACE and SEX contained in the input phenotype\n",
        "file, phenotype.phe. The headers are \\#ID – main unique individual ID;\n",
        "FID – optional family ID; IID: optional individual ID; MISS – a flag to\n",
        "indicate missing data; SEX – sex; PAT – paternal ID; MAT – maternal ID;\n",
        "META – meta information of fields from input phenotype file. More\n",
        "details about i-view command outputs can be found at\n",
        "*<https://atgu.mgh.harvard.edu/plinkseq/view.shtml#ind>.*\n",
        "\n",
        "**Summary**\n",
        "\n",
        "To view a summary of the complete project"
      ]
    },
    {
      "cell_type": "code",
      "execution_count": null,
      "metadata": {
        "kernel": "Bash",
        "id": "SfEBjL7iTyK_"
      },
      "outputs": [],
      "source": [
        "pseq myproj summary"
      ]
    },
    {
      "cell_type": "markdown",
      "metadata": {
        "kernel": "SoS",
        "id": "zABDZOqCTyK_"
      },
      "source": [
        "Command above will generate a long list of output. To view summaries of\n",
        "portions of the project, i.e., variant data, phenotype data, locus data,\n",
        "reference data, sequence data, input files and meta data:"
      ]
    },
    {
      "cell_type": "code",
      "execution_count": null,
      "metadata": {
        "kernel": "Bash",
        "id": "YTcN2naWTyK_"
      },
      "outputs": [],
      "source": [
        "pseq myproj var-summary"
      ]
    },
    {
      "cell_type": "code",
      "execution_count": null,
      "metadata": {
        "kernel": "Bash",
        "id": "JNWpLGSjTyK_"
      },
      "outputs": [],
      "source": [
        "pseq myproj ind-summary"
      ]
    },
    {
      "cell_type": "code",
      "execution_count": null,
      "metadata": {
        "kernel": "Bash",
        "id": "gF8hMd9JTyK_"
      },
      "outputs": [],
      "source": [
        "pseq myproj loc-summary"
      ]
    },
    {
      "cell_type": "code",
      "execution_count": null,
      "metadata": {
        "kernel": "Bash",
        "id": "c65ZT83JTyLA"
      },
      "outputs": [],
      "source": [
        "pseq myproj ref-summary"
      ]
    },
    {
      "cell_type": "code",
      "execution_count": null,
      "metadata": {
        "kernel": "Bash",
        "id": "gXItvwT5TyLA"
      },
      "outputs": [],
      "source": [
        "pseq myproj seq-summary"
      ]
    },
    {
      "cell_type": "code",
      "execution_count": null,
      "metadata": {
        "kernel": "Bash",
        "id": "QJk33kzFTyLA"
      },
      "outputs": [],
      "source": [
        "pseq myproj file-summary"
      ]
    },
    {
      "cell_type": "code",
      "execution_count": null,
      "metadata": {
        "kernel": "Bash",
        "id": "hAFWk43LTyLA"
      },
      "outputs": [],
      "source": [
        "pseq myproj meta-summary"
      ]
    },
    {
      "cell_type": "markdown",
      "metadata": {
        "kernel": "SoS",
        "id": "qw8rGf9BTyLA"
      },
      "source": [
        "More details about viewing summary information for project databases can\n",
        "be found at *https://atgu.mgh.harvard.edu/plinkseq/proj.shtml\\#summ*\n",
        "\n",
        "Based on the “pseq myproj var-summary” command there are 6987 unique\n",
        "variant sites for CEU and YRI, with the CEU sample having 3489 variant\n",
        "sites and the YRI sample 5175 variant sites. .\n",
        "\n",
        "For an overview of variant summary statistics:"
      ]
    },
    {
      "cell_type": "code",
      "execution_count": null,
      "metadata": {
        "kernel": "Bash",
        "id": "SDP4jsjtTyLA"
      },
      "outputs": [],
      "source": [
        "pseq myproj v-stats"
      ]
    },
    {
      "cell_type": "markdown",
      "metadata": {
        "kernel": "SoS",
        "id": "9AePmbDwTyLA"
      },
      "source": [
        "v-stats command obtains summary statistics across variants. Output\n",
        "statistics are NVAR – total number of variants; RATE – average call\n",
        "rate; MAC – mean minor allele count; MAF – mean minor allele frequency;\n",
        "SING – number of singletons; MONO – number of monomorphic sites; TITV –\n",
        "transition/transversion (Ti/Tv) ratio; TITV\\_S – Ti/Tv ratio for\n",
        "singletons; DP – mean variant read depth; QUAL – mean QUAL score from\n",
        "VCF; PASS – proportion of variants that PASS all FILTERS; FILTER|PASS –\n",
        "proportion of variants that pass all filters; FILTER|SBFilter –\n",
        "proportion of variants that fail to pass SB filter. More details about\n",
        "v-stats command outputs can be found at\n",
        "*https://atgu.mgh.harvard.edu/plinkseq/stats.shtml\\#var*\n",
        "\n",
        "For individual level summary statistics:"
      ]
    },
    {
      "cell_type": "code",
      "execution_count": null,
      "metadata": {
        "kernel": "Bash",
        "id": "9AhrXFa8TyLA"
      },
      "outputs": [],
      "source": [
        "pseq myproj i-stats | head"
      ]
    },
    {
      "cell_type": "markdown",
      "metadata": {
        "kernel": "SoS",
        "id": "IxmMcSx4TyLB"
      },
      "source": [
        "i-stats command obtains a matrix of summary statistics for every\n",
        "individual in a project. Output statistics are ID – individual ID; NALT\n",
        "– number of non-reference genotypes; NMIN – number of genotypes with a\n",
        "minor allele; NHET – number of heterozygous genotypes for individual;\n",
        "NVAR – total number of called variants for individual; RATE – genotyping\n",
        "rate for individual; SING – number of singletons individuals has; TITV –\n",
        "mean Ti/Tv for variants for which individual has a nonreference\n",
        "genotype; PASS – number of variants passing for which individual has a\n",
        "nonreference genotype; PASS\\_S - number of singletons passing for which\n",
        "individual has a (singleton) nonreference genotype; QUAL - mean QUAL for\n",
        "variants for which individual has a nonreference genotype; DP - mean\n",
        "variant DP for variants for which individual has a nonreference\n",
        "genotype. More details about i-stats command output can be found at\n",
        "*https://atgu.mgh.harvard.edu/plinkseq/stats.shtml\\#ind*\n",
        "\n",
        "The file tags (listed at the top of the “pseq myproj var-summary”\n",
        "results as “1” for the CEU imported VCF file and “2” for YRI imported\n",
        "VCF file) can be changed to more identifiable names using the commands:"
      ]
    },
    {
      "cell_type": "code",
      "execution_count": null,
      "metadata": {
        "kernel": "Bash",
        "id": "EfAWG0KSTyLB"
      },
      "outputs": [],
      "source": [
        "pseq myproj tag-file --id 1 --name CEU"
      ]
    },
    {
      "cell_type": "code",
      "execution_count": null,
      "metadata": {
        "kernel": "Bash",
        "id": "eWaDCQ7FTyLB"
      },
      "outputs": [],
      "source": [
        "pseq myproj tag-file --id 2 --name YRI"
      ]
    },
    {
      "cell_type": "markdown",
      "metadata": {
        "kernel": "SoS",
        "id": "mOw1MDz1TyLB"
      },
      "source": [
        "To view changes use the command:"
      ]
    },
    {
      "cell_type": "code",
      "execution_count": null,
      "metadata": {
        "kernel": "Bash",
        "id": "wyTavy1GTyLB"
      },
      "outputs": [],
      "source": [
        "pseq myproj var-summary"
      ]
    },
    {
      "cell_type": "markdown",
      "metadata": {
        "kernel": "SoS",
        "id": "rEiX9L-qTyLB"
      },
      "source": [
        "This will help us later for viewing population specific data as well as\n",
        "filtering and analyzing data based on population.\n",
        "\n",
        "**Variant statistics**\n",
        "\n",
        "Variant statistics such as Hardy-Weinberg equilibrium, minor allele\n",
        "count, and minor allele frequency can be output using the “v-freq”\n",
        "command:"
      ]
    },
    {
      "cell_type": "code",
      "execution_count": null,
      "metadata": {
        "kernel": "Bash",
        "id": "SoWlOg5MTyLB"
      },
      "outputs": [],
      "source": [
        "pseq myproj v-freq | head"
      ]
    },
    {
      "cell_type": "markdown",
      "metadata": {
        "kernel": "SoS",
        "id": "oWwKa1awTyLB"
      },
      "source": [
        "Please note that it is not valid to filter for deviation from HWE using\n",
        "the entire project since there are two populations, instead the HWE much\n",
        "be examined for each individual project.\n",
        "\n",
        "For population specific variant statistics use the “--mask” flag with\n",
        "the “file” option:"
      ]
    },
    {
      "cell_type": "code",
      "execution_count": null,
      "metadata": {
        "kernel": "Bash",
        "id": "pCvza7YZTyLC"
      },
      "outputs": [],
      "source": [
        "pseq myproj v-freq --mask file=CEU | head"
      ]
    },
    {
      "cell_type": "markdown",
      "metadata": {
        "kernel": "SoS",
        "id": "uJHjFnERTyLG"
      },
      "source": [
        "As you see, the “--mask” flag is used to set conditions for the viewing\n",
        "or filtering variants or individuals. More details about “v-freq”\n",
        "command can be found at\n",
        "\n",
        "*https://atgu.mgh.harvard.edu/plinkseq/tutorial.shtml*\n",
        "\n",
        "**Data Cleaning**\n",
        "\n",
        "**Removal of low quality variants**\n",
        "\n",
        "To view the number of variants that passed all quality filters:"
      ]
    },
    {
      "cell_type": "code",
      "execution_count": null,
      "metadata": {
        "kernel": "Bash",
        "id": "N9Z7WfJwTyLG"
      },
      "outputs": [],
      "source": [
        "pseq myproj v-view --mask any.filter.ex | head"
      ]
    },
    {
      "cell_type": "code",
      "execution_count": null,
      "metadata": {
        "kernel": "Bash",
        "id": "foRGK_gSTyLH"
      },
      "outputs": [],
      "source": [
        "pseq myproj v-view --mask any.filter.ex | wc -l"
      ]
    },
    {
      "cell_type": "markdown",
      "metadata": {
        "kernel": "SoS",
        "id": "oeulsg5sTyLH"
      },
      "source": [
        "There are 6986 unique variant sites that have passed the quality\n",
        "filters. The “--mask” flag gives the condition(s) that must be met for\n",
        "the variant to be listed. Here “any.filter.ex” tells **pseq** to remove\n",
        "any variants that failed 1 or more quality filters. Only variants that\n",
        "have a ‘PASS’ value in the FILTER field of the vcf file will be\n",
        "selected. More details about filtering variants on FILTER field can be\n",
        "found at *https://atgu.mgh.harvard.edu/plinkseq/masks.shtml\\#filter*\n",
        "\n",
        "To view the number of variants that failed any quality filter:"
      ]
    },
    {
      "cell_type": "code",
      "execution_count": null,
      "metadata": {
        "kernel": "Bash",
        "id": "T1dfiILgTyLH"
      },
      "outputs": [],
      "source": [
        "pseq myproj v-view --mask any.filter | wc -l"
      ]
    },
    {
      "cell_type": "markdown",
      "metadata": {
        "kernel": "SoS",
        "id": "-kzprY0ZTyLH"
      },
      "source": [
        "One variant failed the filter. To select only variants that passed all\n",
        "quality filters:"
      ]
    },
    {
      "cell_type": "code",
      "execution_count": null,
      "metadata": {
        "kernel": "Bash",
        "id": "UOVnHp4MTyLH"
      },
      "outputs": [],
      "source": [
        "pseq myproj var-set --group pass --mask any.filter.ex"
      ]
    },
    {
      "cell_type": "code",
      "execution_count": null,
      "metadata": {
        "kernel": "Bash",
        "id": "F_cyJrh4TyLH"
      },
      "outputs": [],
      "source": [
        "pseq myproj var-summary"
      ]
    },
    {
      "cell_type": "markdown",
      "metadata": {
        "kernel": "SoS",
        "id": "gNAO5B28TyLH"
      },
      "source": [
        "The “var-set” option tells **pseq** that we will be creating a new set\n",
        "of variants, the input following the “--group” flag gives the name of\n",
        "the new variant set, and the input following the “--mask” flag gives the\n",
        "condition(s) that must be met for the variant to be included in the new\n",
        "variant set.\n",
        "\n",
        "If we consider variant sites with a read depth &lt; 15 as low quality\n",
        "variant sites and we want to remove variants that did not meet this\n",
        "threshold. Note that ‘DP’, which denotes total read depth of a variant\n",
        "site, is contained in the INFO field of vcf file."
      ]
    },
    {
      "cell_type": "code",
      "execution_count": null,
      "metadata": {
        "kernel": "Bash",
        "id": "w92z-cGETyLI"
      },
      "outputs": [],
      "source": [
        "pseq myproj var-set --group pass_DP15 --mask include=\"DP>14\" var=pass"
      ]
    },
    {
      "cell_type": "code",
      "execution_count": null,
      "metadata": {
        "kernel": "Bash",
        "id": "iXafoS-sTyLI"
      },
      "outputs": [],
      "source": [
        "pseq myproj var-summary"
      ]
    },
    {
      "cell_type": "markdown",
      "metadata": {
        "kernel": "Bash",
        "id": "ErGYOZVzTyLI"
      },
      "source": [
        "Only one variant site is removed. The “var=allpass” option allows us to\n",
        "use a previously defined variant set as a reference for additional\n",
        "filtering of a previously filtered variant set. By using various\n",
        "“--mask” commands you can filter out variants that are not useful for\n",
        "your particular study.\n",
        "\n",
        "**Filter data by genotype read depth 10**"
      ]
    },
    {
      "cell_type": "code",
      "execution_count": null,
      "metadata": {
        "kernel": "Bash",
        "id": "hFWHuvSFTyLI"
      },
      "outputs": [],
      "source": [
        "pseq myproj var-set --group pass_DP15_DPgeno10 --mask geno=DP:ge:11 var=pass_DP15"
      ]
    },
    {
      "cell_type": "code",
      "execution_count": null,
      "metadata": {
        "kernel": "Bash",
        "id": "J0ZlWN-cTyLI"
      },
      "outputs": [],
      "source": [
        "pseq myproj var-summary"
      ]
    },
    {
      "cell_type": "markdown",
      "metadata": {
        "kernel": "Bash",
        "id": "quQ_uVxrTyLI"
      },
      "source": [
        "This command sets all genotypes with a sequencing depth (DP) &lt; 11 to\n",
        "null using the option “geno=DP:ge:11”. In the vcf file, genotype level\n",
        "DP information is contained in the genotype columns, present under each\n",
        "individual ID and is specific to every individual’s genotype. Available\n",
        "genotype level information is denoted by FORMAT column in the vcf file.\n",
        "\n",
        "**Association Tests for a Quantitative Trait**\n",
        "\n",
        "*NOTE: From this step forward the association tests will be performed\n",
        "for the CEU population only. The “file=YRI” tag can be used to perform\n",
        "the same tests on the YRI data.*\n",
        "\n",
        "**Select CEU variant sites**"
      ]
    },
    {
      "cell_type": "code",
      "execution_count": null,
      "metadata": {
        "kernel": "Bash",
        "id": "SngBKcO1TyLJ"
      },
      "outputs": [],
      "source": [
        "pseq myproj var-set --group pass_DP15_DPgeno10_CEU --mask file=CEU var=pass_DP15_DPgeno10"
      ]
    },
    {
      "cell_type": "code",
      "execution_count": null,
      "metadata": {
        "kernel": "Bash",
        "id": "YRywW8LPTyLJ"
      },
      "outputs": [],
      "source": [
        "pseq myproj var-summary"
      ]
    },
    {
      "cell_type": "markdown",
      "metadata": {
        "kernel": "Bash",
        "id": "bqMPo28bTyLJ"
      },
      "source": [
        "Set pass\\_DP15\\_DPgeno10\\_CEU containing 3488 variants\n",
        "\n",
        "There are 3488 variant sites that can be found in CEU population dataset\n",
        "after QC.\n",
        "\n",
        "**Exclude variant sites with HWE p-value &lt; 5.7e-7**"
      ]
    },
    {
      "cell_type": "code",
      "execution_count": null,
      "metadata": {
        "kernel": "Bash",
        "id": "7vVvQSQ0TyLJ"
      },
      "outputs": [],
      "source": [
        "pseq myproj var-set --group pass_DP15_DPgeno10_CEU_HWE --mask hwe=5.7e-7:1 var=pass_DP15_DPgeno10_CEU"
      ]
    },
    {
      "cell_type": "code",
      "execution_count": null,
      "metadata": {
        "kernel": "Bash",
        "id": "6hQLLSUHTyLJ"
      },
      "outputs": [],
      "source": [
        "pseq myproj var-summary"
      ]
    },
    {
      "cell_type": "markdown",
      "metadata": {
        "kernel": "Bash",
        "id": "lx_w3At-TyLJ"
      },
      "source": [
        "Set pass\\_DP15\\_DPgeno10\\_CEU containing 3479 variants\n",
        "\n",
        "There are 3479 variant sites that are in HWE (Hardy-Weinberg\n",
        "equilibrium) in CEU population. Details about tests for deviation from\n",
        "HWE can be found at\n",
        "[http://en.wikipedia.org/wiki/Hardy–Weinberg\\_principle](http://en.wikipedia.org/wiki/Hardy–Weinberg_principle)*.*\n",
        "Here we use a p-value cutoff of 5.7e-7 to exclude variant sites, for\n",
        "more details see reference\n",
        "http://www.nature.com/nature/journal/v447/n7145/full/nature05911.html\n",
        "\n",
        "**Filter variants by minor allele frequency (MAF)**\n",
        "\n",
        "We wish to analyze variant sites with different allele frequencies. In\n",
        "order to obtain the different data sets the following commands are used.\n",
        "\n",
        "To extract variant sites with MAF ≥ 0.05:"
      ]
    },
    {
      "cell_type": "code",
      "execution_count": null,
      "metadata": {
        "kernel": "Bash",
        "id": "UcxHLPclTyLJ"
      },
      "outputs": [],
      "source": [
        "pseq myproj var-set --group pass_DP15_DPgeno10_CEU_HWE_MAFgt05 --mask maf=0.05:0.5 var=pass_DP15_DPgeno10_CEU_HWE"
      ]
    },
    {
      "cell_type": "code",
      "execution_count": null,
      "metadata": {
        "kernel": "Bash",
        "id": "LfZb1w8FTyLK"
      },
      "outputs": [],
      "source": [
        "pseq myproj var-summary"
      ]
    },
    {
      "cell_type": "markdown",
      "metadata": {
        "kernel": "Bash",
        "id": "nprUU_aQTyLK"
      },
      "source": [
        "Set pass\\_DP15\\_DPgeno10\\_CEU\\_HWE\\_MAFgt05 containing 1429 variants\n",
        "\n",
        "There are 1429 variant sites in the CEU data set that pass QC with a MAF\n",
        "≥ 0.05. These variant sites are saved to the variant table;\n",
        "pass\\_DP15\\_DPgeno10\\_CEU\\_HWE\\_MAFgt05.\n",
        "\n",
        "To extract variant sites with MAF ≤ 0.01:\n"
      ]
    },
    {
      "cell_type": "code",
      "execution_count": null,
      "metadata": {
        "kernel": "Bash",
        "id": "sOCi1jn-TyLK"
      },
      "outputs": [],
      "source": [
        "pseq myproj var-set --group pass_DP15_DPgeno10_CEU_HWE_MAFlt01 --mask \"mac=1 maf=0.01\" var=pass_DP15_DPgeno10_CEU_HWE"
      ]
    },
    {
      "cell_type": "code",
      "execution_count": null,
      "metadata": {
        "kernel": "Bash",
        "id": "nRknPkuUTyLK"
      },
      "outputs": [],
      "source": [
        "pseq myproj var-summary"
      ]
    },
    {
      "cell_type": "markdown",
      "metadata": {
        "kernel": "Bash",
        "id": "mFfypMPZTyLK"
      },
      "source": [
        "Set pass\\_DP15\\_DPgeno10\\_CEU\\_HWE\\_MAFlt01 containing 1083 variants\n",
        "\n",
        "There are 1083 variant sites in the CEU dataset which pass QC with a MAF\n",
        "≤ 0.01. The variant sites are saved to the variant table;\n",
        "pass\\_DP15\\_DPgeno10\\_CEU\\_HWE\\_MAFlt01. Note that condition “mac=1”\n",
        "excludes monomorphic sites.\n",
        "\n",
        "More details about --mask options on filtering variants on sample\n",
        "polymorphism can be found at\n",
        "*https://atgu.mgh.harvard.edu/plinkseq/masks.shtml\\#maf*\n",
        "\n",
        "**Analysis of common variants (MAF ≥ 0.05)**\n",
        "\n",
        "To run a linear or logistic regression on each single variant, use the\n",
        "glm command. The type of test will depend on the phenotype (quantitative\n",
        "trait or dichotomous disease trait).\n",
        "\n",
        "To detect single variant association between quantitative phenotype BMI,\n",
        "controlling for sex and a group of variants, contained in variant table\n",
        "pass\\_DP15\\_DPgeno10\\_CEU\\_HWE\\_MAFgt05, filtered using each of the\n",
        "previous filtering conditions:\n"
      ]
    },
    {
      "cell_type": "code",
      "execution_count": null,
      "metadata": {
        "kernel": "Bash",
        "id": "VCHC6n97TyLK"
      },
      "outputs": [],
      "source": [
        "pseq myproj glm --phenotype BMI --covar SEX --mask var=pass_DP15_DPgeno10_CEU_HWE_MAFgt05> SNV_CEU.result"
      ]
    },
    {
      "cell_type": "code",
      "execution_count": null,
      "metadata": {
        "kernel": "Bash",
        "id": "9NtSceVDTyLK"
      },
      "outputs": [],
      "source": [
        "head SNV_CEU.result"
      ]
    },
    {
      "cell_type": "markdown",
      "metadata": {
        "kernel": "Bash",
        "id": "YxMba2p5TyLL"
      },
      "source": [
        "The output statistics are VAR – variant identifier; REF – reference\n",
        "allele; ALT – alternate allele(s); N – number of individuals included in\n",
        "analysis; F – frequency of the alternate allele(s); BETA – regression\n",
        "coefficient; SE – standard error of estimate; STAT – test statistic; P –\n",
        "asymptotic p-value. More details about linear and logistic regression\n",
        "models can be found at\n",
        "*https://atgu.mgh.harvard.edu/plinkseq/assoc.shtml#glm*\n",
        "\n",
        "To view the results sorted by p-value:"
      ]
    },
    {
      "cell_type": "code",
      "execution_count": null,
      "metadata": {
        "kernel": "Bash",
        "id": "Qw5GdUBOTyLL"
      },
      "outputs": [],
      "source": [
        "cat SNV_CEU.result | awk '{if(FNR==1) print $0; if(NR>1) print $0 | \"sort -k9\"}' | grep -v \"NA\\s\\+NA\\s\\+NA\" | head"
      ]
    },
    {
      "cell_type": "markdown",
      "metadata": {
        "kernel": "Bash",
        "id": "LeOC1xjYTyLL"
      },
      "source": [
        "\n",
        "**Analysis of rare variants (MAF *&lt;*0.01)**\n",
        "\n",
        "PSEQ has a collection of gene-based tests, *see\n",
        "<https://atgu.mgh.harvard.edu/plinkseq/assoc.shtml#genic>* for details.\n",
        "\n",
        "*However,* *Currently only the SKAT and SKAT-O can be used to analyze\n",
        "quantitative traits so the SKAT test will be used in the following rare\n",
        "variant burden analysis (if we choose to use other tests, e.g. WSS –\n",
        "frequency-weighted test, VT – variable threshold test, etc., the\n",
        "following error will be returned.*"
      ]
    },
    {
      "cell_type": "code",
      "execution_count": null,
      "metadata": {
        "kernel": "Bash",
        "id": "H5ZqoKpyTyLL"
      },
      "outputs": [],
      "source": [
        "pseq myproj assoc --tests fw vt --phenotype BMI"
      ]
    },
    {
      "cell_type": "markdown",
      "metadata": {
        "kernel": "Bash",
        "id": "Sd8gysZuTyLL"
      },
      "source": [
        "To perform SKAT, where rare variants aggregated across a gene region, a\n",
        "group-by mask is required. Here we use loc.group=refseq, where refseq\n",
        "denotes NCBI Reference Sequence Database. More details about grouping\n",
        "variants can be found at\n",
        "[*https://atgu.mgh.harvard.edu/plinkseq/masks.shtml\\#groups*](https://atgu.mgh.harvard.edu/plinkseq/masks.shtml#groups).\n",
        "More details about refseq can be found at\n",
        "<http://www.ncbi.nlm.nih.gov/refseq/>\n",
        "\n",
        "When performing single variant analysis data QC can be performed and\n",
        "then variant table containing selected variants can be analyzed. If a\n",
        "rare variant aggregate association test is being performed it is not\n",
        "possible using PSEQ to specify the name of the variant table, instead\n",
        "all of the QC parameters must be included in the command line in\n",
        "addition to the association test parameters.\n",
        "\n",
        "Running the SKAT test using the variant table results in an error:"
      ]
    },
    {
      "cell_type": "code",
      "execution_count": null,
      "metadata": {
        "kernel": "Bash",
        "id": "hXbHTqbcTyLL"
      },
      "outputs": [],
      "source": [
        "pseq myproj assoc --tests skat --phenotype BMI --covar SEX --mask var=pass_DP15_DPgeno10_CEU_HWE_MAFlt01 loc.group=refseq > SKAT_CEU.result"
      ]
    },
    {
      "cell_type": "markdown",
      "metadata": {
        "kernel": "Bash",
        "id": "S2IiSYNBTyLL"
      },
      "source": [
        "Additional details can be found at\n",
        "<https://atgu.mgh.harvard.edu/plinkseq/whatisnew.shtml>),\n",
        "\n",
        "Although we use the most recent version pseq-0.10 in this exercise (for\n",
        "which there is no updated documentation), the error still remains\n",
        "unresolved. Therefore, we have to redo cleaning on original data by\n",
        "re-specifying each filtering condition and run SKAT using one command as\n",
        "below:"
      ]
    },
    {
      "cell_type": "code",
      "execution_count": null,
      "metadata": {
        "kernel": "Bash",
        "id": "kKt4afmnTyLM"
      },
      "outputs": [],
      "source": [
        "pseq myproj assoc --tests skat --phenotype BMI --covar SEX --mask include=\"DP>14\" geno=DP:ge:11 file=CEU hwe=5.7e-7:1 \"mac=1 maf=0.01\" loc.group=refseq > SKAT_CEU.result"
      ]
    },
    {
      "cell_type": "code",
      "execution_count": null,
      "metadata": {
        "kernel": "Bash",
        "id": "FnRX31K1TyLM"
      },
      "outputs": [],
      "source": [
        "head -20 SKAT_CEU.result"
      ]
    },
    {
      "cell_type": "markdown",
      "metadata": {
        "kernel": "Bash",
        "id": "eTn6PTjWTyLM"
      },
      "source": [
        "For each gene region the list of the variants within the gene are\n",
        "listed, followed by gene-based association results. The I field is only\n",
        "available for case control data and provides the smallest possible\n",
        "empirical p-value which can be obtained for the variant sites and the\n",
        "DESC field which is also only available for case control data and it\n",
        "provides the number of case and control alternative alleles. Since we\n",
        "are analyzing quantitative trait data these fields are blank. Detailed\n",
        "explanation about each output field can be found at\n",
        "<https://atgu.mgh.harvard.edu/plinkseq/assoc.shtml#genic>\n",
        "\n",
        "To view the smallest p-values for each SKAT test:"
      ]
    },
    {
      "cell_type": "code",
      "execution_count": null,
      "metadata": {
        "kernel": "Bash",
        "id": "UhFQJD_MTyLM"
      },
      "outputs": [],
      "source": [
        "cat SKAT_CEU.result | grep SKAT | grep -v \"P=NA\" | sort -k6 | head -15"
      ]
    },
    {
      "cell_type": "markdown",
      "metadata": {
        "kernel": "Bash",
        "id": "my108SauTyLM"
      },
      "source": [
        "Note that each test has been performed on each alternative transcript\n",
        "(NM\\_\\*) of each gene, e.g. transcripts NM\\_001055, NM\\_177529,\n",
        "NM\\_177530, NM\\_177534 and NM\\_177536 all belong to gene SULT1A1."
      ]
    },
    {
      "cell_type": "markdown",
      "metadata": {
        "kernel": "Bash",
        "id": "dXHtcD_yTyLM"
      },
      "source": [
        "**Task**\n",
        "\n",
        "Repeat the above analysis but using the data from the Yoruba (YRI)\n",
        "population and answer the following questions."
      ]
    },
    {
      "cell_type": "markdown",
      "metadata": {
        "kernel": "SoS",
        "id": "UQw1jM0JTyLM"
      },
      "source": [
        "**Question 1**\n",
        "List the four smallest p-values for the single variant tests for the\n",
        "common variants i.e. MAF *&gt;*0.05:"
      ]
    },
    {
      "cell_type": "markdown",
      "metadata": {
        "kernel": "SoS",
        "id": "5SEttYR8TyLN"
      },
      "source": [
        "1.)\n",
        "\n",
        "2.)\n",
        "\n",
        "3.)\n",
        "\n",
        "4.)"
      ]
    },
    {
      "cell_type": "markdown",
      "metadata": {
        "kernel": "SoS",
        "id": "-2o6dWZlTyLN"
      },
      "source": [
        "**Question 2**\n",
        "List the four smallest p-values for the SKAT rare variant test:"
      ]
    },
    {
      "cell_type": "markdown",
      "metadata": {
        "kernel": "SoS",
        "id": "NytnF6lkTyLN"
      },
      "source": [
        "1.)\n",
        "\n",
        "2.)\n",
        "\n",
        "3.)\n",
        "\n",
        "4.)"
      ]
    },
    {
      "cell_type": "markdown",
      "metadata": {
        "kernel": "SoS",
        "id": "ygBkS7AWTyLN"
      },
      "source": [
        "**Answers**\n",
        "\n",
        "**Question 1**\n",
        "\n",
        "Single variant test\n",
        "\n",
        "1.) chr21:26979752  0.00084882\n",
        "2.) chr17:3445901   0.000956475\n",
        "3.) chr17:9729445   0.0010022\n",
        "4.) chr19:15303225  0.0011692\n",
        "\n",
        "**Question 2**\n",
        "SKAT aggregate burden test\n",
        "\n",
        "1.) NM_207317 0.0210752\n",
        "2.) NM_032048 0.0238947\n",
        "3.) NM_002738 0.0255961\n",
        "4.) NM_212535 0.0255961"
      ]
    }
  ],
  "metadata": {
    "kernelspec": {
      "display_name": "SoS",
      "language": "sos",
      "name": "sos"
    },
    "language_info": {
      "codemirror_mode": "sos",
      "file_extension": ".sos",
      "mimetype": "text/x-sos",
      "name": "sos",
      "nbconvert_exporter": "sos_notebook.converter.SoS_Exporter",
      "pygments_lexer": "sos"
    },
    "sos": {
      "kernels": [
        [
          "Bash",
          "bash",
          "Bash",
          "#E6EEFF",
          "shell"
        ]
      ],
      "version": "0.22.9"
    },
    "colab": {
      "provenance": []
    }
  },
  "nbformat": 4,
  "nbformat_minor": 0
}