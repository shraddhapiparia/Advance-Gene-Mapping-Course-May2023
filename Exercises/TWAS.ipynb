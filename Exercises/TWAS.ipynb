{
  "cells": [
    {
      "cell_type": "markdown",
      "metadata": {
        "kernel": "SoS",
        "tags": [],
        "id": "dw8irKHOVLE4"
      },
      "source": [
        "# Multivariate TWAS using joint-tissue imputation with Mendelian Randomization\n",
        "\n",
        "## Introduction\n",
        "This MR-JTI exercise comes from [Eric R. Gamazon's lab](https://github.com/gamazonlab/MR-JTI). It's written in SoS notebook here and uses a pre-build docker image. This notebook shows the workflow for MR-JTI, which utilizes imputation to perform trait prediction according to multi-tissue relationship gene expression. MR-JTI acheives a higher prediction accuracy by leveraging multi-tissue information and also performes Causal Inference on trait and gene expression.\n",
        "\n",
        "> [Zhou, Dan, et al. \"A unified framework for joint-tissue transcriptome-wide association and Mendelian randomization analysis.\" Nature Genetics (2020)](https://www.nature.com/articles/s41588-020-0706-2)\n",
        "\n",
        "> Alvaro N., et al. \"Exploring the phenotypic consequences of tissue specific gene expression variation inferred from GWAS summary statistics.\" Nature communications (2018)\n",
        "\n",
        "> Gamazon, Eric R., et al. \"A gene-based association method for mapping traits using reference transcriptome data.\" Nature genetics (2015)\n",
        "\n",
        "The minimal working example files can be downloaded from [Google Drive](https://drive.google.com/drive/folders/1Yv_wipKz0jP0pd-gEhFBZzO4jU9m-mqs?usp=sharing).\n",
        "\n",
        "## Analysis outline\n",
        "\n",
        "1. Build multi-tissue gene expression prediction model\n",
        "2. Imputation / prediction of gene expression for each tissue\n",
        "3. Perform association testing with imputed expression for each tissue\n",
        "4. Causal Inference between Trait and imputed Gene Expression\n",
        "\n",
        "## Step 1: Prediction model training (Joint-Tissue Imputation, JTI)\n",
        "\n",
        "## 1. Input files preparing\n",
        "### 1.1 Genotype data preparing (similar with GWAS)\n",
        "QC and filtering: MAF, HWE, call rate, R2(imputation quality), etc.\n",
        "\n",
        "Example file: `jti_example_geno.bed/bim/fam`\n",
        "\n",
        "### 1.2 Expression data preparing\n",
        "Expression normalization and residualization (age, gender, PCs, PEERs, etc.)\n",
        "\n",
        "Example file: `jti_example_exp.txt`\n",
        "\n",
        "### 1.3 Tissue-tissue similarity estimation\n",
        "Expression, DHS, etc.\n",
        "\n",
        "Example file: `jti_example_exp.txt`\n",
        "\n",
        "### 1.4 Gene annotation file\n",
        "An annotation\n",
        "\n",
        "Example file: `gencode.v32.GRCh37.txt`\n",
        "\n",
        "## 2. Software and input Options\n",
        "### 2.1 Script\n",
        "https://github.com/gamazonlab/MR-JTI/blob/master/model_training/JTI/JTI.r\n",
        "\n",
        "### 2.2 Input Options\n",
        "* `--tissue`, target tissue name\n",
        "* `--geneid`, gene id The ENSG gene ID. Provide the real ENSG gene ID which will be used to find the chromosome and position for the gene.\n",
        "* `--genotype_path`, Genotype file in plink bfile format `.bed/.bim/.fam`, used for data preprocessing in QC, filtering, calculating MAF, call rate, and R-sq,\n",
        "it contains a snp matrix for snp name and family information. The example file here is like:  {genotype_path}.bed/fam/bim\n",
        "\n",
        "      jti_example_geno.bed\n",
        "      jti_example_geno.bim\n",
        "      jti_example_geno.fam\n",
        "* `--expression_path`, expression data that will be used to normalize and residulize for age, gender, PCs, PEERs, and so on. It contains tissue name, sample id and expression level\n",
        "* `--gencode_path`, gene annotation file in .txt format, includes each gene's gene id, name, strand and so on. We use the colum 'geneid' as the list to iterate our workflow through all the genes.\n",
        "* `--plink_path`, the path to plink software. It's been implanted in the docker image.\n",
        "\n",
        "## 3. An usage example\n",
        "\n",
        "Let do the Joint-Tissue Imputation for tissue \"Adipose_Subcutaneous\" and gene \"ENSG00000182957\""
      ],
      "id": "dw8irKHOVLE4"
    },
    {
      "cell_type": "code",
      "execution_count": null,
      "metadata": {
        "kernel": "Bash",
        "tags": [],
        "id": "3UyiC2bxVLE8",
        "outputId": "cfdc179c-762e-4285-bb0c-3e0c40c2a7a3"
      },
      "outputs": [
        {
          "name": "stdout",
          "output_type": "stream",
          "text": [
            "mkdir: cannot create directory ‘result’: File exists\n"
          ]
        },
        {
          "ename": "",
          "evalue": "1",
          "output_type": "error",
          "traceback": []
        }
      ],
      "source": [
        "mkdir result"
      ],
      "id": "3UyiC2bxVLE8"
    },
    {
      "cell_type": "code",
      "execution_count": null,
      "metadata": {
        "kernel": "Bash",
        "id": "3swZnMqXVLE-"
      },
      "outputs": [],
      "source": [
        "Rscript /opt/MR_JTI/JTI.r \\\n",
        "    --tissue Adipose_Subcutaneous \\\n",
        "    --geneid ENSG00000182957 \\\n",
        "    --genotype_path data/jti_example_geno \\\n",
        "    --expression_path data/jti_example_exp.txt \\\n",
        "    --gencode_path data/gencode.v32.GRCh37.txt \\\n",
        "    --tmp_folder tmp \\\n",
        "    --plink_path /usr/local/bin/plink \\\n",
        "    --out_path result"
      ],
      "id": "3swZnMqXVLE-"
    },
    {
      "cell_type": "markdown",
      "metadata": {
        "kernel": "Bash",
        "id": "LoPlbIxkVLE-"
      },
      "source": [
        "## 4. Output\n",
        "\n",
        "The output file (weight file) `{out_path}/{_geneid}_{tissue}.txt`contains the following columns\n",
        "* gene: geneid\n",
        "* rsid: snpid\n",
        "* chr_bp: chromosome_position\n",
        "* ref_allele: reference allele (uncounted allele when generating the dosage file.)\n",
        "* counted_allele: counted_allele (counted allele when generating the dosage file.)\n",
        "* weight: weight for each counted allele\n",
        "* r2: cross-validation r2. The square of the correlation between the predicted and observed expression levels.\n",
        "* p: cross-validation p-value. The significance of the correlation test (correlation between the predicted and observed expression levels)\n",
        "* lambda: The final hyperparameter."
      ],
      "id": "LoPlbIxkVLE-"
    },
    {
      "cell_type": "code",
      "execution_count": null,
      "metadata": {
        "kernel": "Bash",
        "id": "1jGd5U0SVLE-",
        "outputId": "61dd81e0-6728-4002-accf-26cc365d854b"
      },
      "outputs": [
        {
          "name": "stdout",
          "output_type": "stream",
          "text": [
            "gene\trsid\tchr_bp\tref_allele\tcounted_allele\tweight\tr2\tp\tlambda\n",
            "ENSG00000182957\trs73455777\t13_24879413\tT\tA\t-0.280248818627714\t0.147611877506574\t4.06941769922718e-16\t0.153641011307056\n",
            "ENSG00000182957\trs73455781\t13_24884598\tT\tC\t-0.108027909059419\t0.147611877506574\t4.06941769922718e-16\t0.153641011307056\n",
            "ENSG00000182957\trs9507302\t13_24893568\tC\tT\t-0.0520308509795799\t0.147611877506574\t4.06941769922718e-16\t0.153641011307056\n",
            "ENSG00000182957\trs56314653\t13_24962979\tT\tC\t-0.0154395733291027\t0.147611877506574\t4.06941769922718e-16\t0.153641011307056\n"
          ]
        }
      ],
      "source": [
        "cat result/ENSG00000182957_Adipose_Subcutaneous.txt"
      ],
      "id": "1jGd5U0SVLE-"
    },
    {
      "cell_type": "markdown",
      "metadata": {
        "kernel": "Bash",
        "id": "M0cj4_7IVLE_"
      },
      "source": [
        "## Step 2: Association test\n",
        "\n",
        "MetaXcan is concerned with obtaining gene-level association tests from ordinary GWAS data. Let's use MetaXcan to do a summary statistics based gene-level association test\n",
        "\n",
        "## 1. Input files\n",
        "### 1.1 Prediction model\n",
        "Prediction model includes the genetic variants and their effect allele, reference allele, and weight. It usually packaged into SQLitle file with postfix ‘.db’.\n",
        "\n",
        "Example file `JTI_Liver.db`\n",
        "https://zenodo.org/record/3842289/files/JTI_Liver.db\n",
        "\n",
        "Connect to a local SQLitle database like this"
      ],
      "id": "M0cj4_7IVLE_"
    },
    {
      "cell_type": "code",
      "execution_count": null,
      "metadata": {
        "kernel": "R",
        "tags": [],
        "id": "qB1VKn0-VLE_",
        "outputId": "5e447047-52ad-4891-eb23-0aca161914da"
      },
      "outputs": [
        {
          "data": {
            "text/html": [
              "<ol class=list-inline>\n",
              "\t<li>'construction'</li>\n",
              "\t<li>'extra'</li>\n",
              "\t<li>'sample_info'</li>\n",
              "\t<li>'weights'</li>\n",
              "</ol>\n"
            ],
            "text/latex": [
              "\\begin{enumerate*}\n",
              "\\item 'construction'\n",
              "\\item 'extra'\n",
              "\\item 'sample\\_info'\n",
              "\\item 'weights'\n",
              "\\end{enumerate*}\n"
            ],
            "text/markdown": [
              "1. 'construction'\n",
              "2. 'extra'\n",
              "3. 'sample_info'\n",
              "4. 'weights'\n",
              "\n",
              "\n"
            ],
            "text/plain": [
              "[1] \"construction\" \"extra\"        \"sample_info\"  \"weights\"     "
            ]
          },
          "metadata": {},
          "output_type": "display_data"
        },
        {
          "data": {
            "text/html": [
              "<ol class=list-inline>\n",
              "\t<li>'rsid'</li>\n",
              "\t<li>'gene'</li>\n",
              "\t<li>'weight'</li>\n",
              "\t<li>'ref_allele'</li>\n",
              "\t<li>'eff_allele'</li>\n",
              "</ol>\n"
            ],
            "text/latex": [
              "\\begin{enumerate*}\n",
              "\\item 'rsid'\n",
              "\\item 'gene'\n",
              "\\item 'weight'\n",
              "\\item 'ref\\_allele'\n",
              "\\item 'eff\\_allele'\n",
              "\\end{enumerate*}\n"
            ],
            "text/markdown": [
              "1. 'rsid'\n",
              "2. 'gene'\n",
              "3. 'weight'\n",
              "4. 'ref_allele'\n",
              "5. 'eff_allele'\n",
              "\n",
              "\n"
            ],
            "text/plain": [
              "[1] \"rsid\"       \"gene\"       \"weight\"     \"ref_allele\" \"eff_allele\""
            ]
          },
          "metadata": {},
          "output_type": "display_data"
        }
      ],
      "source": [
        "library(RSQLite)\n",
        "con <- dbConnect(RSQLite::SQLite(), dbname='data/JTI_Liver.db')             #establish connections\n",
        "dbListTables(con)  #datasets\n",
        "dbListFields(con, 'weights')   #cols\n",
        "weights = dbReadTable(con,\"weights\")\n",
        "dbDisconnect(con) #disconnect"
      ],
      "id": "qB1VKn0-VLE_"
    },
    {
      "cell_type": "markdown",
      "metadata": {
        "kernel": "R",
        "id": "81qV67zFVLFA"
      },
      "source": [
        "### 1.2 SNP-SNP covariance matrix\n",
        "SNP-SNP covariance matrix is always estimated from a reference dataset (e.g., 1000g, GTEx). The covariance matrix is needed for association test using GWAS summary statistics.\n",
        "\n",
        "Example file `JTI_Liver.txt.gz`\n",
        "https://zenodo.org/record/3842289/files/JTI_Liver.txt.gz\n",
        "\n",
        "\n",
        "### 1.3 Pre-trained prediction models\n",
        "https://zenodo.org/record/3842289\n",
        "\n",
        "\n",
        "### 1.4 GWAS summary statistics\n",
        "For each variant, the rsid, effect allele, reference allele, estimated effect size (beta) and its standard error are needed. Z-score, p-value, and se are convertible from one to the others.\n",
        "\n",
        "Example file `LDLq.txt.gz`\n",
        "(GWAS for LDL-C from UK Biobank, generated by Ben Neale Lab http://www.nealelab.is/uk-biobank)\n",
        "Dropbox link: https://www.dropbox.com/sh/i9elg3m4wav4o5g/AAABdxZbVyBclbfa_1KKVftDa?dl=0\n",
        "\n",
        "\n",
        "### 1.5 Individual level genotype data, phenotype data, and covariates\n",
        "The genotype file should be converted to dosage format (coded as 0, 1, 2). Covariates may include age, gender, PCs, batch, etc.\n",
        "\n",
        "Example file `jti_example_geno.bed/bim/fam`(1000g project phase 1, 1.2Gb)\n",
        "https://www.dropbox.com/s/k9ptc4kep9hmvz5/1kg_phase1_all.tar.gz\n",
        "\n",
        "use the following command to covert the binary file to dosage format.\n",
        "Reference: https://github.com/hakyimlab/PrediXcan"
      ],
      "id": "81qV67zFVLFA"
    },
    {
      "cell_type": "code",
      "execution_count": null,
      "metadata": {
        "kernel": "Bash",
        "tags": [],
        "id": "c8vdVR6pVLFA",
        "outputId": "da5f0ecc-d19a-40c5-d38a-93d0a292a9a5"
      },
      "outputs": [
        {
          "name": "stdout",
          "output_type": "stream",
          "text": [
            "PLINK v1.90b6.18 64-bit (16 Jun 2020)          www.cog-genomics.org/plink/1.9/\n",
            "(C) 2005-2020 Shaun Purcell, Christopher Chang   GNU General Public License v3\n",
            "Logging to result/dosage.log.\n",
            "Options in effect:\n",
            "  --bfile data/jti_example_geno\n",
            "  --out result/dosage\n",
            "  --recode A\n",
            "\n",
            "7859 MB RAM detected; reserving 3929 MB for main workspace.\n",
            "2006 variants loaded from .bim file.\n",
            "600 people (0 males, 0 females, 600 ambiguous) loaded from .fam.\n",
            "Ambiguous sex IDs written to result/dosage.nosex .\n",
            "Using 1 thread (no multithreaded calculations invoked).\n",
            "Before main variant filters, 600 founders and 0 nonfounders present.\n",
            "Calculating allele frequencies... 10111213141516171819202122232425262728293031323334353637383940414243444546474849505152535455565758596061626364656667686970717273747576777879808182838485868788899091929394959697989 done.\n",
            "Total genotyping rate is 0.999718.\n",
            "2006 variants and 600 people pass filters and QC.\n",
            "Note: No phenotypes present.\n",
            "--recode A to result/dosage.raw ... 101112131415161718192021222324252627282930313233343536373839404142434445464748495051525354555657585960616263646566676869707172737475767778798081828384858687888990919293949596979899done.\n"
          ]
        }
      ],
      "source": [
        "plink --bfile data/jti_example_geno --recode A --out result/dosage"
      ],
      "id": "c8vdVR6pVLFA"
    },
    {
      "cell_type": "markdown",
      "metadata": {
        "kernel": "Bash",
        "id": "8xJSunXrVLFA"
      },
      "source": [
        "## 2. Software and input Options\n",
        "### 2.1 Script\n",
        "https://github.com/hakyimlab/MetaXcan/tree/v0.5.0/software/MetaXcan.py\n",
        "\n",
        "### 2.2 Input Options\n",
        "\n",
        "* `--model_db_path` Path to tissue transriptome model\n",
        "* `--covariance` Path to file containing covariance information. This covariance should have information related to the tissue transcriptome model.\n",
        "* `--gwas_folder` Folder containing GWAS summary statistics data.\n",
        "* `--beta_column` Tells the program the name of a column containing -phenotype beta data for each SNP- in the input GWAS files.\n",
        "* `--pvalue_column `Tells the program the name of a column containing -PValue for each SNP- in the input GWAS files.\n",
        "* `--output_file` Path where results will be saved to.\n",
        "\n",
        "## 3. An example running"
      ],
      "id": "8xJSunXrVLFA"
    },
    {
      "cell_type": "code",
      "execution_count": null,
      "metadata": {
        "kernel": "Bash",
        "id": "xGc07HakVLFB",
        "outputId": "523af814-168b-48ed-f5bf-672a161640b2"
      },
      "outputs": [
        {
          "name": "stdout",
          "output_type": "stream",
          "text": [
            "INFO - result/LDLq_JTI_Liver.csv already exists, move it or delete it if you want it done again\n"
          ]
        }
      ],
      "source": [
        "/opt/miniconda2/bin/python /opt/MR_JTI/MetaXcan/software/MetaXcan.py \\\n",
        "    --model_db_path data/JTI_Liver.db \\\n",
        "    --covariance data/JTI_Liver.txt.gz \\\n",
        "    --gwas_file data/LDLq.txt.gz \\\n",
        "    --snp_column rsid \\\n",
        "    --effect_allele_column eff_allele \\\n",
        "    --non_effect_allele_column ref_allele \\\n",
        "    --beta_column beta \\\n",
        "    --se_column se \\\n",
        "    --output_file result/LDLq_JTI_Liver.csv"
      ],
      "id": "xGc07HakVLFB"
    },
    {
      "cell_type": "code",
      "execution_count": null,
      "metadata": {
        "kernel": "Bash",
        "id": "QQeWEbcuVLFB",
        "outputId": "5343ed8f-56c0-4859-99b0-223eab65d1e6"
      },
      "outputs": [
        {
          "name": "stdout",
          "output_type": "stream",
          "text": [
            "#!/bin/bash\n",
            "/opt/miniconda2/bin/python /opt/MR_JTI/MetaXcan/software/MetaXcan.py \n"
          ]
        }
      ],
      "source": [
        "cat /usr/local/bin/MetaXcan.py"
      ],
      "id": "QQeWEbcuVLFB"
    },
    {
      "cell_type": "code",
      "execution_count": null,
      "metadata": {
        "kernel": "Bash",
        "id": "XWxY3gkGVLFB",
        "outputId": "b8376e47-52a5-4635-da59-9d5ff4a4d8cd"
      },
      "outputs": [
        {
          "name": "stdout",
          "output_type": "stream",
          "text": [
            "bash: import: command not found\n",
            "bash: syntax error near unexpected token `('\n"
          ]
        },
        {
          "ename": "",
          "evalue": "2",
          "output_type": "error",
          "traceback": []
        }
      ],
      "source": [],
      "id": "XWxY3gkGVLFB"
    },
    {
      "cell_type": "markdown",
      "metadata": {
        "kernel": "Bash",
        "id": "9SzYn5MlVLFB"
      },
      "source": [
        "### Output\n",
        "The output file `{out_path}/{trait}_{model}_{tissue}.csv`contains the following columns\n",
        "* gene: a gene's id: as listed in the Tissue Transcriptome model. Ensemble Id for some, while some others (mainly DGN Whole Blood) provide Genquant's gene name\n",
        "* gene_name: gene name as listed by the Transcriptome Model, generally extracted from Genquant\n",
        "* zscore: MetaXcan's association result for the gene\n",
        "* effect_size: MetaXcan's association effect size for the gene\n",
        "* pvalue: P-value of the aforementioned statistic.\n",
        "* pred_perf_r2: R2 of tissue model's correlation to gene's measured transcriptome (prediction performance)\n",
        "* pred_perf_pval: pval of tissue model's correlation to gene's measured transcriptome (prediction performance)\n",
        "* pred_perf_qval: qval of tissue model's correlation to gene's measured transcriptome (prediction performance)\n",
        "* n_snps_used: number of snps from GWAS that got used in MetaXcan analysis\n",
        "* n_snps_in_cov: number of snps in the covariance matrix\n",
        "* n_snps_in_model: number of snps in the model\n",
        "* var_g: variance of the gene expression, calculated as W' * G * W (where W is the vector of SNP weights in a gene's model, W' is its transpose, and G is the covariance matrix)\n",
        "\n",
        "Show the top 10 genes in the MetaXcan's association test"
      ],
      "id": "9SzYn5MlVLFB"
    },
    {
      "cell_type": "code",
      "execution_count": null,
      "metadata": {
        "kernel": "R",
        "tags": [],
        "id": "Ar4rxpH-VLFC",
        "outputId": "56554213-2fa8-4169-e357-fcd57cdf52ee"
      },
      "outputs": [
        {
          "data": {
            "text/html": [
              "<table>\n",
              "<caption>A data.frame: 10 × 12</caption>\n",
              "<thead>\n",
              "\t<tr><th></th><th scope=col>gene</th><th scope=col>gene_name</th><th scope=col>zscore</th><th scope=col>effect_size</th><th scope=col>pvalue</th><th scope=col>var_g</th><th scope=col>pred_perf_r2</th><th scope=col>pred_perf_pval</th><th scope=col>pred_perf_qval</th><th scope=col>n_snps_used</th><th scope=col>n_snps_in_cov</th><th scope=col>n_snps_in_model</th></tr>\n",
              "\t<tr><th></th><th scope=col>&lt;fct&gt;</th><th scope=col>&lt;fct&gt;</th><th scope=col>&lt;dbl&gt;</th><th scope=col>&lt;dbl&gt;</th><th scope=col>&lt;dbl&gt;</th><th scope=col>&lt;dbl&gt;</th><th scope=col>&lt;dbl&gt;</th><th scope=col>&lt;dbl&gt;</th><th scope=col>&lt;dbl&gt;</th><th scope=col>&lt;int&gt;</th><th scope=col>&lt;int&gt;</th><th scope=col>&lt;int&gt;</th></tr>\n",
              "</thead>\n",
              "<tbody>\n",
              "\t<tr><th scope=row>1</th><td>ENSG00000143126</td><td>CELSR2    </td><td>-42.30416</td><td>-0.13424460</td><td> 0.000000e+00</td><td>0.268935075</td><td>0.38689763</td><td>1.156995e-23</td><td>7.149017e-22</td><td> 5</td><td> 5</td><td> 5</td></tr>\n",
              "\t<tr><th scope=row>2</th><td>ENSG00000187244</td><td>BCAM      </td><td> 45.71368</td><td> 0.44939151</td><td> 0.000000e+00</td><td>0.030827889</td><td>0.03448452</td><td>7.242926e-03</td><td>2.219693e-02</td><td> 6</td><td> 7</td><td> 7</td></tr>\n",
              "\t<tr><th scope=row>3</th><td>ENSG00000134243</td><td>SORT1     </td><td>-41.97255</td><td>-0.50587187</td><td> 0.000000e+00</td><td>0.018351693</td><td>0.55847706</td><td>1.993097e-38</td><td>6.855528e-36</td><td> 4</td><td> 4</td><td> 4</td></tr>\n",
              "\t<tr><th scope=row>4</th><td>ENSG00000134222</td><td>PSRC1     </td><td>-42.49256</td><td>-0.12524847</td><td> 0.000000e+00</td><td>0.317316532</td><td>0.42333655</td><td>2.010697e-26</td><td>1.584932e-24</td><td> 8</td><td> 8</td><td> 8</td></tr>\n",
              "\t<tr><th scope=row>5</th><td>ENSG00000105726</td><td>ATP13A1   </td><td>-21.52092</td><td>-0.44611034</td><td>9.917491e-103</td><td>0.006385254</td><td>0.05160173</td><td>9.680534e-04</td><td>3.887420e-03</td><td> 3</td><td> 3</td><td> 3</td></tr>\n",
              "\t<tr><th scope=row>6</th><td>ENSG00000122008</td><td>POLK      </td><td> 18.34702</td><td> 0.22066027</td><td> 3.487152e-75</td><td>0.019355314</td><td>0.03497234</td><td>6.835971e-03</td><td>2.114156e-02</td><td> 7</td><td> 7</td><td> 7</td></tr>\n",
              "\t<tr><th scope=row>7</th><td>ENSG00000186567</td><td>CEACAM19  </td><td> 17.70665</td><td> 0.10370418</td><td> 3.725881e-70</td><td>0.075904816</td><td>0.13826322</td><td>3.202926e-08</td><td>3.238533e-07</td><td> 9</td><td>11</td><td>11</td></tr>\n",
              "\t<tr><th scope=row>8</th><td>ENSG00000253111</td><td>AC091114.1</td><td> 17.21140</td><td> 0.17204619</td><td> 2.180991e-66</td><td>0.027805847</td><td>0.04891103</td><td>1.326357e-03</td><td>5.123685e-03</td><td> 6</td><td> 6</td><td> 6</td></tr>\n",
              "\t<tr><th scope=row>9</th><td>ENSG00000130202</td><td>NECTIN2   </td><td> 15.66918</td><td> 0.04795247</td><td> 2.457436e-55</td><td>0.276912534</td><td>0.50651745</td><td>1.982286e-33</td><td>3.605854e-31</td><td>16</td><td>17</td><td>17</td></tr>\n",
              "\t<tr><th scope=row>10</th><td>ENSG00000132855</td><td>ANGPTL3   </td><td> 15.33546</td><td> 0.19970981</td><td> 4.431437e-53</td><td>0.015668830</td><td>0.03636379</td><td>5.797809e-03</td><td>1.839084e-02</td><td> 4</td><td> 5</td><td> 5</td></tr>\n",
              "</tbody>\n",
              "</table>\n"
            ],
            "text/latex": [
              "A data.frame: 10 × 12\n",
              "\\begin{tabular}{r|llllllllllll}\n",
              "  & gene & gene\\_name & zscore & effect\\_size & pvalue & var\\_g & pred\\_perf\\_r2 & pred\\_perf\\_pval & pred\\_perf\\_qval & n\\_snps\\_used & n\\_snps\\_in\\_cov & n\\_snps\\_in\\_model\\\\\n",
              "  & <fct> & <fct> & <dbl> & <dbl> & <dbl> & <dbl> & <dbl> & <dbl> & <dbl> & <int> & <int> & <int>\\\\\n",
              "\\hline\n",
              "\t1 & ENSG00000143126 & CELSR2     & -42.30416 & -0.13424460 &  0.000000e+00 & 0.268935075 & 0.38689763 & 1.156995e-23 & 7.149017e-22 &  5 &  5 &  5\\\\\n",
              "\t2 & ENSG00000187244 & BCAM       &  45.71368 &  0.44939151 &  0.000000e+00 & 0.030827889 & 0.03448452 & 7.242926e-03 & 2.219693e-02 &  6 &  7 &  7\\\\\n",
              "\t3 & ENSG00000134243 & SORT1      & -41.97255 & -0.50587187 &  0.000000e+00 & 0.018351693 & 0.55847706 & 1.993097e-38 & 6.855528e-36 &  4 &  4 &  4\\\\\n",
              "\t4 & ENSG00000134222 & PSRC1      & -42.49256 & -0.12524847 &  0.000000e+00 & 0.317316532 & 0.42333655 & 2.010697e-26 & 1.584932e-24 &  8 &  8 &  8\\\\\n",
              "\t5 & ENSG00000105726 & ATP13A1    & -21.52092 & -0.44611034 & 9.917491e-103 & 0.006385254 & 0.05160173 & 9.680534e-04 & 3.887420e-03 &  3 &  3 &  3\\\\\n",
              "\t6 & ENSG00000122008 & POLK       &  18.34702 &  0.22066027 &  3.487152e-75 & 0.019355314 & 0.03497234 & 6.835971e-03 & 2.114156e-02 &  7 &  7 &  7\\\\\n",
              "\t7 & ENSG00000186567 & CEACAM19   &  17.70665 &  0.10370418 &  3.725881e-70 & 0.075904816 & 0.13826322 & 3.202926e-08 & 3.238533e-07 &  9 & 11 & 11\\\\\n",
              "\t8 & ENSG00000253111 & AC091114.1 &  17.21140 &  0.17204619 &  2.180991e-66 & 0.027805847 & 0.04891103 & 1.326357e-03 & 5.123685e-03 &  6 &  6 &  6\\\\\n",
              "\t9 & ENSG00000130202 & NECTIN2    &  15.66918 &  0.04795247 &  2.457436e-55 & 0.276912534 & 0.50651745 & 1.982286e-33 & 3.605854e-31 & 16 & 17 & 17\\\\\n",
              "\t10 & ENSG00000132855 & ANGPTL3    &  15.33546 &  0.19970981 &  4.431437e-53 & 0.015668830 & 0.03636379 & 5.797809e-03 & 1.839084e-02 &  4 &  5 &  5\\\\\n",
              "\\end{tabular}\n"
            ],
            "text/markdown": [
              "\n",
              "A data.frame: 10 × 12\n",
              "\n",
              "| <!--/--> | gene &lt;fct&gt; | gene_name &lt;fct&gt; | zscore &lt;dbl&gt; | effect_size &lt;dbl&gt; | pvalue &lt;dbl&gt; | var_g &lt;dbl&gt; | pred_perf_r2 &lt;dbl&gt; | pred_perf_pval &lt;dbl&gt; | pred_perf_qval &lt;dbl&gt; | n_snps_used &lt;int&gt; | n_snps_in_cov &lt;int&gt; | n_snps_in_model &lt;int&gt; |\n",
              "|---|---|---|---|---|---|---|---|---|---|---|---|---|\n",
              "| 1 | ENSG00000143126 | CELSR2     | -42.30416 | -0.13424460 |  0.000000e+00 | 0.268935075 | 0.38689763 | 1.156995e-23 | 7.149017e-22 |  5 |  5 |  5 |\n",
              "| 2 | ENSG00000187244 | BCAM       |  45.71368 |  0.44939151 |  0.000000e+00 | 0.030827889 | 0.03448452 | 7.242926e-03 | 2.219693e-02 |  6 |  7 |  7 |\n",
              "| 3 | ENSG00000134243 | SORT1      | -41.97255 | -0.50587187 |  0.000000e+00 | 0.018351693 | 0.55847706 | 1.993097e-38 | 6.855528e-36 |  4 |  4 |  4 |\n",
              "| 4 | ENSG00000134222 | PSRC1      | -42.49256 | -0.12524847 |  0.000000e+00 | 0.317316532 | 0.42333655 | 2.010697e-26 | 1.584932e-24 |  8 |  8 |  8 |\n",
              "| 5 | ENSG00000105726 | ATP13A1    | -21.52092 | -0.44611034 | 9.917491e-103 | 0.006385254 | 0.05160173 | 9.680534e-04 | 3.887420e-03 |  3 |  3 |  3 |\n",
              "| 6 | ENSG00000122008 | POLK       |  18.34702 |  0.22066027 |  3.487152e-75 | 0.019355314 | 0.03497234 | 6.835971e-03 | 2.114156e-02 |  7 |  7 |  7 |\n",
              "| 7 | ENSG00000186567 | CEACAM19   |  17.70665 |  0.10370418 |  3.725881e-70 | 0.075904816 | 0.13826322 | 3.202926e-08 | 3.238533e-07 |  9 | 11 | 11 |\n",
              "| 8 | ENSG00000253111 | AC091114.1 |  17.21140 |  0.17204619 |  2.180991e-66 | 0.027805847 | 0.04891103 | 1.326357e-03 | 5.123685e-03 |  6 |  6 |  6 |\n",
              "| 9 | ENSG00000130202 | NECTIN2    |  15.66918 |  0.04795247 |  2.457436e-55 | 0.276912534 | 0.50651745 | 1.982286e-33 | 3.605854e-31 | 16 | 17 | 17 |\n",
              "| 10 | ENSG00000132855 | ANGPTL3    |  15.33546 |  0.19970981 |  4.431437e-53 | 0.015668830 | 0.03636379 | 5.797809e-03 | 1.839084e-02 |  4 |  5 |  5 |\n",
              "\n"
            ],
            "text/plain": [
              "   gene            gene_name  zscore    effect_size pvalue        var_g      \n",
              "1  ENSG00000143126 CELSR2     -42.30416 -0.13424460  0.000000e+00 0.268935075\n",
              "2  ENSG00000187244 BCAM        45.71368  0.44939151  0.000000e+00 0.030827889\n",
              "3  ENSG00000134243 SORT1      -41.97255 -0.50587187  0.000000e+00 0.018351693\n",
              "4  ENSG00000134222 PSRC1      -42.49256 -0.12524847  0.000000e+00 0.317316532\n",
              "5  ENSG00000105726 ATP13A1    -21.52092 -0.44611034 9.917491e-103 0.006385254\n",
              "6  ENSG00000122008 POLK        18.34702  0.22066027  3.487152e-75 0.019355314\n",
              "7  ENSG00000186567 CEACAM19    17.70665  0.10370418  3.725881e-70 0.075904816\n",
              "8  ENSG00000253111 AC091114.1  17.21140  0.17204619  2.180991e-66 0.027805847\n",
              "9  ENSG00000130202 NECTIN2     15.66918  0.04795247  2.457436e-55 0.276912534\n",
              "10 ENSG00000132855 ANGPTL3     15.33546  0.19970981  4.431437e-53 0.015668830\n",
              "   pred_perf_r2 pred_perf_pval pred_perf_qval n_snps_used n_snps_in_cov\n",
              "1  0.38689763   1.156995e-23   7.149017e-22    5           5           \n",
              "2  0.03448452   7.242926e-03   2.219693e-02    6           7           \n",
              "3  0.55847706   1.993097e-38   6.855528e-36    4           4           \n",
              "4  0.42333655   2.010697e-26   1.584932e-24    8           8           \n",
              "5  0.05160173   9.680534e-04   3.887420e-03    3           3           \n",
              "6  0.03497234   6.835971e-03   2.114156e-02    7           7           \n",
              "7  0.13826322   3.202926e-08   3.238533e-07    9          11           \n",
              "8  0.04891103   1.326357e-03   5.123685e-03    6           6           \n",
              "9  0.50651745   1.982286e-33   3.605854e-31   16          17           \n",
              "10 0.03636379   5.797809e-03   1.839084e-02    4           5           \n",
              "   n_snps_in_model\n",
              "1   5             \n",
              "2   7             \n",
              "3   4             \n",
              "4   8             \n",
              "5   3             \n",
              "6   7             \n",
              "7  11             \n",
              "8   6             \n",
              "9  17             \n",
              "10  5             "
            ]
          },
          "metadata": {},
          "output_type": "display_data"
        }
      ],
      "source": [
        "asso_stat = read.csv(\"result/LDLq_JTI_Liver.csv\", header = T)\n",
        "head(asso_stat,10)"
      ],
      "id": "Ar4rxpH-VLFC"
    },
    {
      "cell_type": "markdown",
      "metadata": {
        "kernel": "Bash",
        "id": "ZgpRyl2YVLFC"
      },
      "source": [
        "## Step 3: Mendelian Randomization (MR-JTI)\n",
        "\n",
        "### 1. Input files\n",
        "A dataframe of GWAS and eQTL summary statistics from step 2\n",
        "\n",
        "Example file `mrjti_example.txt`\n",
        "https://github.com/gamazonlab/MR-JTI/blob/master/mr/mrjti_example.txt\n",
        "\n",
        "\n",
        "## 2. Software and packages for this step\n",
        "### 2.1 Script\n",
        "https://github.com/gamazonlab/MR-JTI/blob/master/mr/MR-JTI.r\n",
        "\n",
        "### 2.3 Input options\n",
        "* `--df_path`, Path to dataframe of GWAS and eQTL summary statistics. This input file contains six elements, as listed below (The headers are required)\n",
        "    * rsid: rsid. SNPs need to be clumped (plink --clump) before running MR-JTI.\n",
        "    * effect_allele: The effect allele. Harmonization needs to be performed to make sure the effect alleles of eQTL and GWAS are correctly aligned.\n",
        "    * ldscore: The LD score of each SNP. GCTA could be used to generate LD score based on reference dataset (e.g. 1000g, GTEx). gcta64 --bfile test --ld-score --ld-wind 1000 --ld-rsq-cutoff 0.01 --out test\n",
        "    * eqtl_beta: the marginal effect of SNP. Available on GTEx portal\n",
        "    * eqtl_se: SE of eQTL effect size\n",
        "    * eqtl_p: eQTL p-value\n",
        "    * gwas_beta: GWAS effect size\n",
        "    * gwas_p: GWAS p-value\n",
        "* `--n_genes` Total number of genes tested (Bonferroni correction will be applied). n_genes=1 denotes user requires only nominal significance level (i.e., p<0.05 will be considered as significant).\n",
        "* `--out_path` Output path.\n",
        "\n",
        "\n",
        "## 3. A typical run"
      ],
      "id": "ZgpRyl2YVLFC"
    },
    {
      "cell_type": "code",
      "execution_count": null,
      "metadata": {
        "kernel": "Bash",
        "id": "ZrMWWmUZVLFC",
        "outputId": "601fd6e5-c7bb-4d86-a2d2-045a2fdfcd03"
      },
      "outputs": [
        {
          "name": "stdout",
          "output_type": "stream",
          "text": [
            "-----MR-JTI----- \n",
            "Loading required package: Matrix\n",
            "Loaded glmnet 4.1-4\n",
            "INFO loading dataframe... \n",
            "Please make sure that the effect alleles of GWAS and eQTL are correctly aligned. \n",
            "INFO running residual bootstrap lasso... \n",
            "INFO done \n",
            "-----\n"
          ]
        }
      ],
      "source": [
        "Rscript  /opt/MR_JTI/MR-JTI.r \\\n",
        "    --df_path data/mrjti_example.txt \\\n",
        "    --n_genes 1 \\\n",
        "    --out_path result/mrjti_example.csv"
      ],
      "id": "ZrMWWmUZVLFC"
    },
    {
      "cell_type": "markdown",
      "metadata": {
        "kernel": "Bash",
        "id": "hxJAiAikVLFC"
      },
      "source": [
        "### Output\n",
        "MR-JTI generates the upper and lower estimates of the gene's effect on GWAS trait as well as the heterogeneity estimates.\n",
        "\n",
        "The output file `{out_path}/*.csv` contains the following columns\n",
        "* variable: Variables including the gene's effect and the heterogeneity effects\n",
        "* beta: Point estimate of the effect size\n",
        "* beta_CI_lower: Bonferroni adjusted confidence interval (CI), lower\n",
        "* beta_CI_upper: Bonferroni adjusted CI, upper\n",
        "* CI_significance: Significant if the CI does not overlap the null hypothesis (i.e., 0)."
      ],
      "id": "hxJAiAikVLFC"
    },
    {
      "cell_type": "code",
      "execution_count": null,
      "metadata": {
        "kernel": "R",
        "tags": [],
        "id": "B6TcVMArVLFC",
        "outputId": "6493b2c8-16ed-4865-fc16-4da577f072bf"
      },
      "outputs": [
        {
          "data": {
            "text/html": [
              "<table>\n",
              "<caption>A data.frame: 6 × 5</caption>\n",
              "<thead>\n",
              "\t<tr><th></th><th scope=col>variable</th><th scope=col>beta</th><th scope=col>beta_CI_lower</th><th scope=col>beta_CI_upper</th><th scope=col>CI_significance</th></tr>\n",
              "\t<tr><th></th><th scope=col>&lt;fct&gt;</th><th scope=col>&lt;dbl&gt;</th><th scope=col>&lt;dbl&gt;</th><th scope=col>&lt;dbl&gt;</th><th scope=col>&lt;fct&gt;</th></tr>\n",
              "</thead>\n",
              "<tbody>\n",
              "\t<tr><th scope=row>1</th><td>expression</td><td>-0.71372817</td><td>-0.8297739</td><td>-0.59793407</td><td>sig   </td></tr>\n",
              "\t<tr><th scope=row>2</th><td>ldsc      </td><td>-0.06011108</td><td>-0.1691402</td><td> 0.05492065</td><td>nonsig</td></tr>\n",
              "\t<tr><th scope=row>3</th><td>rs3902354 </td><td> 0.00000000</td><td> 0.0000000</td><td> 0.00000000</td><td>nonsig</td></tr>\n",
              "\t<tr><th scope=row>4</th><td>rs68104325</td><td> 0.00000000</td><td> 0.0000000</td><td> 0.00000000</td><td>nonsig</td></tr>\n",
              "\t<tr><th scope=row>5</th><td>rs585362  </td><td> 0.00000000</td><td> 0.0000000</td><td> 0.00000000</td><td>nonsig</td></tr>\n",
              "\t<tr><th scope=row>6</th><td>rs17035665</td><td> 0.00000000</td><td> 0.0000000</td><td> 0.00000000</td><td>nonsig</td></tr>\n",
              "</tbody>\n",
              "</table>\n"
            ],
            "text/latex": [
              "A data.frame: 6 × 5\n",
              "\\begin{tabular}{r|lllll}\n",
              "  & variable & beta & beta\\_CI\\_lower & beta\\_CI\\_upper & CI\\_significance\\\\\n",
              "  & <fct> & <dbl> & <dbl> & <dbl> & <fct>\\\\\n",
              "\\hline\n",
              "\t1 & expression & -0.71372817 & -0.8297739 & -0.59793407 & sig   \\\\\n",
              "\t2 & ldsc       & -0.06011108 & -0.1691402 &  0.05492065 & nonsig\\\\\n",
              "\t3 & rs3902354  &  0.00000000 &  0.0000000 &  0.00000000 & nonsig\\\\\n",
              "\t4 & rs68104325 &  0.00000000 &  0.0000000 &  0.00000000 & nonsig\\\\\n",
              "\t5 & rs585362   &  0.00000000 &  0.0000000 &  0.00000000 & nonsig\\\\\n",
              "\t6 & rs17035665 &  0.00000000 &  0.0000000 &  0.00000000 & nonsig\\\\\n",
              "\\end{tabular}\n"
            ],
            "text/markdown": [
              "\n",
              "A data.frame: 6 × 5\n",
              "\n",
              "| <!--/--> | variable &lt;fct&gt; | beta &lt;dbl&gt; | beta_CI_lower &lt;dbl&gt; | beta_CI_upper &lt;dbl&gt; | CI_significance &lt;fct&gt; |\n",
              "|---|---|---|---|---|---|\n",
              "| 1 | expression | -0.71372817 | -0.8297739 | -0.59793407 | sig    |\n",
              "| 2 | ldsc       | -0.06011108 | -0.1691402 |  0.05492065 | nonsig |\n",
              "| 3 | rs3902354  |  0.00000000 |  0.0000000 |  0.00000000 | nonsig |\n",
              "| 4 | rs68104325 |  0.00000000 |  0.0000000 |  0.00000000 | nonsig |\n",
              "| 5 | rs585362   |  0.00000000 |  0.0000000 |  0.00000000 | nonsig |\n",
              "| 6 | rs17035665 |  0.00000000 |  0.0000000 |  0.00000000 | nonsig |\n",
              "\n"
            ],
            "text/plain": [
              "  variable   beta        beta_CI_lower beta_CI_upper CI_significance\n",
              "1 expression -0.71372817 -0.8297739    -0.59793407   sig            \n",
              "2 ldsc       -0.06011108 -0.1691402     0.05492065   nonsig         \n",
              "3 rs3902354   0.00000000  0.0000000     0.00000000   nonsig         \n",
              "4 rs68104325  0.00000000  0.0000000     0.00000000   nonsig         \n",
              "5 rs585362    0.00000000  0.0000000     0.00000000   nonsig         \n",
              "6 rs17035665  0.00000000  0.0000000     0.00000000   nonsig         "
            ]
          },
          "metadata": {},
          "output_type": "display_data"
        }
      ],
      "source": [
        "mrjti_stat = read.csv(\"result/mrjti_example.csv\", header = T)\n",
        "head(mrjti_stat)"
      ],
      "id": "B6TcVMArVLFC"
    },
    {
      "cell_type": "code",
      "execution_count": null,
      "metadata": {
        "kernel": "R",
        "tags": [],
        "id": "dQYu7WJnVLFD",
        "outputId": "0beb5d9e-9924-406d-9029-dae3401fcf0c"
      },
      "outputs": [
        {
          "data": {
            "text/html": [
              "<table>\n",
              "<caption>A data.frame: 1 × 5</caption>\n",
              "<thead>\n",
              "\t<tr><th></th><th scope=col>variable</th><th scope=col>beta</th><th scope=col>beta_CI_lower</th><th scope=col>beta_CI_upper</th><th scope=col>CI_significance</th></tr>\n",
              "\t<tr><th></th><th scope=col>&lt;fct&gt;</th><th scope=col>&lt;dbl&gt;</th><th scope=col>&lt;dbl&gt;</th><th scope=col>&lt;dbl&gt;</th><th scope=col>&lt;fct&gt;</th></tr>\n",
              "</thead>\n",
              "<tbody>\n",
              "\t<tr><th scope=row>1</th><td>expression</td><td>-0.7137282</td><td>-0.8297739</td><td>-0.5979341</td><td>sig</td></tr>\n",
              "</tbody>\n",
              "</table>\n"
            ],
            "text/latex": [
              "A data.frame: 1 × 5\n",
              "\\begin{tabular}{r|lllll}\n",
              "  & variable & beta & beta\\_CI\\_lower & beta\\_CI\\_upper & CI\\_significance\\\\\n",
              "  & <fct> & <dbl> & <dbl> & <dbl> & <fct>\\\\\n",
              "\\hline\n",
              "\t1 & expression & -0.7137282 & -0.8297739 & -0.5979341 & sig\\\\\n",
              "\\end{tabular}\n"
            ],
            "text/markdown": [
              "\n",
              "A data.frame: 1 × 5\n",
              "\n",
              "| <!--/--> | variable &lt;fct&gt; | beta &lt;dbl&gt; | beta_CI_lower &lt;dbl&gt; | beta_CI_upper &lt;dbl&gt; | CI_significance &lt;fct&gt; |\n",
              "|---|---|---|---|---|---|\n",
              "| 1 | expression | -0.7137282 | -0.8297739 | -0.5979341 | sig |\n",
              "\n"
            ],
            "text/plain": [
              "  variable   beta       beta_CI_lower beta_CI_upper CI_significance\n",
              "1 expression -0.7137282 -0.8297739    -0.5979341    sig            "
            ]
          },
          "metadata": {},
          "output_type": "display_data"
        }
      ],
      "source": [
        "mrjti_stat[mrjti_stat$CI_significance==\"sig\",]"
      ],
      "id": "dQYu7WJnVLFD"
    },
    {
      "cell_type": "markdown",
      "metadata": {
        "kernel": "Bash",
        "id": "Ythdpz4MVLFD"
      },
      "source": [
        "Note: MR-JTI performs causal inference by modeling the heterogeneity (extra effect) which mainly due to horizontal pleiotropy and unobserved confounding factors. The output of 'CI_significant' tells you whether it is significant ('sig' or 'nonsig'). Here, the significance is not defined by p-value but by the confidence interval (CI) estimated from the bootstrap in a non-parametric way. The Bonferroni-adjusted CI includes 0 mean not significant. 'Bonferroni-adjusted CI' means, when 100 genes were tested, 1-0.05/100 CI (99.95% CI) is applied.\n",
        "\n",
        "The significance of \"expression\" (2nd row in result file) is the primary result of MR-JTI, indicating the significance of the causality between the gene expression and trait.The ld-score is considered as a covariate here.\n",
        "\n",
        "The significance for each IV (SNP) indicates whether the 'extra effect' of the IVs is significantly different from 0. The 'extra effect' denotes the effect from IV to trait but not mediated by the target gene's expression."
      ],
      "id": "Ythdpz4MVLFD"
    }
  ],
  "metadata": {
    "kernelspec": {
      "display_name": "SoS",
      "language": "sos",
      "name": "sos"
    },
    "language_info": {
      "codemirror_mode": "sos",
      "file_extension": ".sos",
      "mimetype": "text/x-sos",
      "name": "sos",
      "nbconvert_exporter": "sos_notebook.converter.SoS_Exporter",
      "pygments_lexer": "sos"
    },
    "sos": {
      "kernels": [
        [
          "Bash",
          "Bash",
          "#E6EEFF",
          ""
        ],
        [
          "R",
          "ir",
          "R",
          "#DCDCDA",
          ""
        ]
      ],
      "version": "0.21.7"
    },
    "colab": {
      "provenance": []
    }
  },
  "nbformat": 4,
  "nbformat_minor": 5
}